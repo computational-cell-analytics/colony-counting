{
 "cells": [
  {
   "cell_type": "code",
   "execution_count": null,
   "id": "3b5565e9",
   "metadata": {},
   "outputs": [],
   "source": [
    "# TODO \n",
    "# install dependencies not pre-installed on google colab"
   ]
  },
  {
   "cell_type": "code",
   "execution_count": null,
   "id": "2a8e8f76",
   "metadata": {},
   "outputs": [],
   "source": [
    "import os\n",
    "from glob import glob\n",
    "\n",
    "import imageio\n",
    "import matplotlib.pyplot as plt\n",
    "import matplotlib.patches as patches\n",
    "from pycocotools.coco import COCO"
   ]
  },
  {
   "cell_type": "code",
   "execution_count": null,
   "id": "34ea5285",
   "metadata": {},
   "outputs": [],
   "source": [
    "def check_image(img_path, annotations):\n",
    "    img = imageio.imread(img_path)\n",
    "    \n",
    "    fig, ax = plt.subplots(1)\n",
    "    ax.imshow(img, cmap=\"gray\")\n",
    "    ax.axis(\"off\")\n",
    "    \n",
    "    # overlay the bounding boxes as rectangles, see\n",
    "    # https://stackoverflow.com/questions/37435369/matplotlib-how-to-draw-a-rectangle-on-image\n",
    "    for ann in annotations:\n",
    "        bbox = ann[\"bbox\"]\n",
    "        y0, x0, h, w = bbox\n",
    "        rect = patches.Rectangle((y0, x0), h, w, linewidth=4, edgecolor='r', facecolor='none')\n",
    "        ax.add_patch(rect)\n",
    "    \n",
    "    plt.show()"
   ]
  },
  {
   "cell_type": "code",
   "execution_count": null,
   "id": "d7ca2165",
   "metadata": {},
   "outputs": [],
   "source": [
    "# the folder with the test images, if you run on google colab you need to put it on your drive,\n",
    "# mount your drive and then set the correct path here\n",
    "folder = \"/home/pape/Work/data/bacterial-colony-counting/test\"\n",
    "\n",
    "n_images = len(glob(os.path.join(folder, \"*.jpg\")))\n",
    "\n",
    "coco = COCO(os.path.join(folder, \"_annotations.coco.json\"))\n",
    "category_ids = coco.getCatIds()\n",
    "\n",
    "for img_id in range(n_images):\n",
    "    img_metadata = coco.loadImgs(img_id)[0]\n",
    "    img_path = os.path.join(folder, img_metadata[\"file_name\"])\n",
    "    assert os.path.exists(img_path)\n",
    "    annotations = coco.getAnnIds(imgIds=img_metadata[\"id\"], catIds=category_ids)\n",
    "    if len(annotations) == 0:\n",
    "        print(\"Image\", img_path, \"does not have annotations\")\n",
    "        continue\n",
    "    annotations = coco.loadAnns(annotations)\n",
    "    check_image(img_path, annotations)\n",
    "    # only check the five first images for now...\n",
    "    if img_id > 4:\n",
    "        break"
   ]
  },
  {
   "cell_type": "code",
   "execution_count": null,
   "id": "448a633e",
   "metadata": {},
   "outputs": [],
   "source": []
  }
 ],
 "metadata": {
  "kernelspec": {
   "display_name": "Python 3 (ipykernel)",
   "language": "python",
   "name": "python3"
  },
  "language_info": {
   "codemirror_mode": {
    "name": "ipython",
    "version": 3
   },
   "file_extension": ".py",
   "mimetype": "text/x-python",
   "name": "python",
   "nbconvert_exporter": "python",
   "pygments_lexer": "ipython3",
   "version": "3.9.7"
  }
 },
 "nbformat": 4,
 "nbformat_minor": 5
}
